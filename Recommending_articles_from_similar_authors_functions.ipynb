{
 "cells": [
  {
   "cell_type": "markdown",
   "id": "feb36b02",
   "metadata": {},
   "source": [
    "Who is a similar author?\n",
    "- An author who writes articles from similar categories\n",
    "- An author who writes from same languages\n",
    "    \n",
    "Filters to keep:\n",
    "- recent article\n",
    "- more liked/viewed/commented article\n",
    "- irrespective of an article being a challenge or not we can take a user's categories as those categories that have acquired more impressions and based on the categories of user we can recomend articles\n"
   ]
  },
  {
   "cell_type": "code",
   "execution_count": 6,
   "id": "722b19c2",
   "metadata": {},
   "outputs": [],
   "source": [
    "import pandas as pd\n",
    "import numpy as np\n",
    "from ast import literal_eval\n",
    "import re\n",
    "\n",
    "\n",
    "from elasticsearch import Elasticsearch\n",
    "import elasticsearch.helpers\n",
    "from elasticsearch.helpers import scan\n",
    "pd.set_option('display.max_columns', None)\n",
    "pd.set_option('display.max_rows', None)\n",
    "pd.set_option('display.max_colwidth', None)"
   ]
  },
  {
   "cell_type": "code",
   "execution_count": 55,
   "id": "8b5c8e33",
   "metadata": {},
   "outputs": [],
   "source": [
    "# reading a dataframe"
   ]
  },
  {
   "cell_type": "code",
   "execution_count": 34,
   "id": "9c63a4db",
   "metadata": {},
   "outputs": [],
   "source": [
    "yyy2 = pd.read_csv('/Users/jahnavi/Documents/MyJob/Projects/Project_Recommender_System/data_for_similar_authors.csv')"
   ]
  },
  {
   "cell_type": "code",
   "execution_count": 36,
   "id": "bfb8e373",
   "metadata": {},
   "outputs": [],
   "source": [
    "yyy2['challenges_cat'] = yyy2.challenges_cat.apply(literal_eval)"
   ]
  },
  {
   "cell_type": "code",
   "execution_count": 37,
   "id": "f0f66496",
   "metadata": {},
   "outputs": [],
   "source": [
    "yyy2['count_of'] = yyy2.count_of.apply(literal_eval)"
   ]
  },
  {
   "cell_type": "markdown",
   "id": "f8a8b6ac",
   "metadata": {},
   "source": [
    "----------------------------------*****************--------------------------\n",
    "### Begin"
   ]
  },
  {
   "cell_type": "code",
   "execution_count": 56,
   "id": "6d4ac0f3",
   "metadata": {},
   "outputs": [],
   "source": [
    "def get_top5_users(user_id):    \n",
    "\n",
    "\n",
    "    tags_to_be_found = yyy2[yyy2['userId']== user_id]['challenges_cat'].values[0] # tags for which the similar tags to be found\n",
    "\n",
    "    list_to_be_found = yyy2[yyy2['userId']== user_id]['count_of'].values[0] # weights of the tags\n",
    "    yyy3 = yyy2\n",
    "\n",
    "\n",
    "    def get_score(tags_to_be_found,list_to_be_found,to_tested,list_tested):\n",
    "\n",
    "        from sklearn.feature_extraction.text import CountVectorizer\n",
    "\n",
    "\n",
    "        string1 = ' '.join(tags_to_be_found)\n",
    "        string2 = ' '.join(to_tested)\n",
    "\n",
    "        vectorizer = CountVectorizer()\n",
    "        \n",
    "# step to get all common words from both the strings and converting them to vectors\n",
    "\n",
    "        matrix = vectorizer.fit_transform([string1, string2]) \n",
    "\n",
    "        x = vectorizer.transform([string1]) # transforming string1 to vectors\n",
    "        y = vectorizer.transform([ string2]) # transforming string2 to vectors\n",
    "        vectors = vectorizer.transform([string1, string2])\n",
    "\n",
    "# we have got matrix for each vectors, now we have to add weights to that matrix\n",
    "        total_weights = []\n",
    "        lists = []\n",
    "        lists.append(list_to_be_found)\n",
    "        lists.append(list_tested)\n",
    "        if len(lists[1]) == len(np.nonzero(matrix.toarray()[1])[0]):\n",
    "            for k in range(matrix.toarray().shape[0]):\n",
    "                l = lists[k]\n",
    "                weights = np.zeros(matrix.toarray().shape[1])\n",
    "\n",
    "                j=0\n",
    "\n",
    "\n",
    "                for i in list(np.nonzero(matrix.toarray()[k])[0]):\n",
    "\n",
    "                    weights[i] = l[j]\n",
    "\n",
    "                    j = j+1\n",
    "                total_weights.append(weights)\n",
    "\n",
    "            a = x.toarray()*total_weights[0]\n",
    "            b = y.toarray()*total_weights[1]\n",
    "\n",
    "            eucledian_dist = np.sqrt(np.sum((a - b)**2))\n",
    "        else:\n",
    "            eucledian_disteucledian_dist = 0\n",
    "        return eucledian_dist\n",
    "\n",
    "    score_total = []\n",
    "    for i in range(len(yyy3)):\n",
    "        to_tested = yyy3['challenges_cat'][i]\n",
    "        list_tested = yyy3['count_of'][i]\n",
    "        score = get_score(tags_to_be_found,list_to_be_found,to_tested,list_tested)\n",
    "        score_total.append(score)\n",
    "\n",
    "    yyy3['score'] = pd.DataFrame(score_total)\n",
    "\n",
    "    yyy3.rename(columns = {'tagged':'similarity_vector'}, inplace = True)\n",
    "#     yyy3.rename(columns = {1:'rank'}, inplace = True)\n",
    "#     print(yyy3.head())\n",
    "\n",
    "    return yyy3.sort_values(by = 'score').iloc[1:][['userId','similarity_vector']].head()\\\n",
    "            .to_json(orient='records')"
   ]
  },
  {
   "cell_type": "code",
   "execution_count": 57,
   "id": "c6cbfcf3",
   "metadata": {},
   "outputs": [
    {
     "data": {
      "text/plain": [
       "'[{\"userId\":\"8bc0343040004355b6a591c2b163f96f\",\"similarity_vector\":\"[{\\'Love\\': 163.0}, {\\'Marriage\\': 163.0}, {\\'Relationship\\': 163.0}, {\\'Strength\\': 163.0}, {\\'MentalHealth\\': 95.0}]\"},{\"userId\":\"28587927aabf471db5314deb72eee554\",\"similarity_vector\":\"[{\\'HealthWellness\\': 123.0}, {\\'Love\\': 123.0}, {\\'MentalHealth\\': 123.0}, {\\'Pregnancy\\': 123.0}, {\\'Strength\\': 123.0}]\"},{\"userId\":\"1c8455c67341490f90205180ad984c95\",\"similarity_vector\":\"[{\\'Love\\': 220.0}, {\\'MentalHealth\\': 165.0}, {\\'Relationship\\': 112.0}, {\\'Strength\\': 112.0}, {\\'Emotions\\': 108.0}]\"},{\"userId\":\"797973e71828429bbf7e5310639d0386\",\"similarity_vector\":\"[{\\'Education\\': 92.0}, {\\'MentalHealth\\': 92.0}, {\\'Parenting\\': 92.0}, {\\'Motherhood\\': 45.0}, {\\'Love\\': 20.0}]\"},{\"userId\":\"1635a89158434b2aaa36279b434abcf7\",\"similarity_vector\":\"[{\\'MentalHealth\\': 178.0}, {\\'Love\\': 139.0}, {\\'Education\\': 109.0}, {\\'SelfCare\\': 91.0}, {\\'Parenting\\': 69.0}, {\\'Marriage\\': 56.0}, {\\'Motherhood\\': 56.0}]\"}]'"
      ]
     },
     "execution_count": 57,
     "metadata": {},
     "output_type": "execute_result"
    }
   ],
   "source": [
    "get_top5_users('00bd173704c04d4a8e2c05e43856e1b8')"
   ]
  }
 ],
 "metadata": {
  "kernelspec": {
   "display_name": "Python 3 (ipykernel)",
   "language": "python",
   "name": "python3"
  },
  "language_info": {
   "codemirror_mode": {
    "name": "ipython",
    "version": 3
   },
   "file_extension": ".py",
   "mimetype": "text/x-python",
   "name": "python",
   "nbconvert_exporter": "python",
   "pygments_lexer": "ipython3",
   "version": "3.7.13"
  }
 },
 "nbformat": 4,
 "nbformat_minor": 5
}
